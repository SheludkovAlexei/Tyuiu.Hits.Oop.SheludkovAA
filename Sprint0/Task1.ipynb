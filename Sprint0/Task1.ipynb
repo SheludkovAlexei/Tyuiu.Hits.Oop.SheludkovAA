{
 "cells": [
  {
   "cell_type": "markdown",
   "metadata": {},
   "source": [
    "<h4 style=\"color:Red\">Задание:</h4>\n",
    "\n",
    "----\n",
    "\n",
    "Ниже в блоке по примеру создайте класс Animal\n"
   ]
  },
  {
   "cell_type": "code",
   "execution_count": 16,
   "metadata": {
    "dotnet_interactive": {
     "language": "csharp"
    },
    "polyglot_notebook": {
     "kernelName": "csharp"
    },
    "vscode": {
     "languageId": "polyglot-notebook"
    }
   },
   "outputs": [],
   "source": [
    "class Animal\n",
    "{\n",
    "\n",
    "}\n",
    "Animal cat = new Animal();"
   ]
  },
  {
   "cell_type": "markdown",
   "metadata": {},
   "source": [
    "<h4 style=\"color:Red\">Задание:</h4>\n",
    "\n",
    "----\n",
    "\n",
    "Ниже в блоке по примеру создайте класс Animal и реализуйте инкапсуляцию"
   ]
  },
  {
   "cell_type": "code",
   "execution_count": 17,
   "metadata": {
    "vscode": {
     "languageId": "polyglot-notebook"
    }
   },
   "outputs": [
    {
     "name": "stdout",
     "output_type": "stream",
     "text": [
      "Подать голос\n",
      "Мейн-кун\n"
     ]
    }
   ],
   "source": [
    "class Animal\n",
    "{\n",
    "    private string species;\n",
    "    public string Species\n",
    "    {\n",
    "        get {return species;}\n",
    "        set {species = value;}\n",
    "    }\n",
    "\n",
    "    public void voice()\n",
    "    {\n",
    "        Console.WriteLine(\"Подать голос\");\n",
    "    }\n",
    "}\n",
    "\n",
    "Animal Cat = new Animal();\n",
    "Cat.Species = \"Мейн-кун\";\n",
    "Cat.voice();\n",
    "Console.WriteLine(Cat.Species)"
   ]
  },
  {
   "cell_type": "markdown",
   "metadata": {},
   "source": [
    "<h4 style=\"color:Red\">Задание:</h4>\n",
    "\n",
    "----\n",
    "\n",
    "Ниже в блоке по примеру создайте класс Animal и реализуйте наследование"
   ]
  },
  {
   "cell_type": "code",
   "execution_count": 18,
   "metadata": {
    "vscode": {
     "languageId": "polyglot-notebook"
    }
   },
   "outputs": [
    {
     "name": "stdout",
     "output_type": "stream",
     "text": [
      "Сибирская\n",
      "Подать голос\n",
      "Мейн-кун\n",
      "Подать голос\n"
     ]
    }
   ],
   "source": [
    "class Animal\n",
    "{\n",
    "    private string species;\n",
    "    public string Species\n",
    "    {\n",
    "        get {return species;}\n",
    "        set {species = value;}\n",
    "    }\n",
    "\n",
    "    public void voice()\n",
    "    {\n",
    "        Console.WriteLine(\"Подать голос\");\n",
    "    }\n",
    "}\n",
    "\n",
    "class Cat : Animal\n",
    "{\n",
    "\n",
    "}\n",
    "\n",
    "Animal myAnimal = new Animal();\n",
    "Cat myCat = new Cat();\n",
    "\n",
    "myCat.Species = \"Сибирская\";\n",
    "Console.WriteLine(myCat.Species);\n",
    "myCat.voice();\n",
    "\n",
    "myAnimal.Species = \"Мейн-кун\";\n",
    "Console.WriteLine(myAnimal.Species);\n",
    "myAnimal.voice();"
   ]
  },
  {
   "cell_type": "markdown",
   "metadata": {},
   "source": [
    "<h4 style=\"color:Red\">Задание:</h4>\n",
    "\n",
    "----\n",
    "\n",
    "Ниже в блоке по примеру создайте класс Animal и реализуйте Полиморфизм"
   ]
  },
  {
   "cell_type": "code",
   "execution_count": 19,
   "metadata": {
    "vscode": {
     "languageId": "polyglot-notebook"
    }
   },
   "outputs": [
    {
     "name": "stdout",
     "output_type": "stream",
     "text": [
      "Вы позвали животное и оно идёт к вам\n",
      "Вы позвали кошку и она идёт к вам\n"
     ]
    }
   ],
   "source": [
    "class Animal \n",
    "{\n",
    "    public virtual void Call()\n",
    "    {\n",
    "        Console.WriteLine(\"Вы позвали животное и оно идёт к вам\");\n",
    "    }\n",
    "}\n",
    "\n",
    "class Cat : Animal\n",
    "{\n",
    "    public override void Call()\n",
    "    {\n",
    "        Console.WriteLine(\"Вы позвали кошку и она идёт к вам\");\n",
    "    }\n",
    "}\n",
    "\n",
    "Animal myAnimal = new Animal();\n",
    "Cat myCat = new Cat();\n",
    "\n",
    "myAnimal.Call();\n",
    "myCat.Call();"
   ]
  },
  {
   "cell_type": "markdown",
   "metadata": {},
   "source": [
    "<h4 style=\"color:Red\">Задание:</h4>\n",
    "\n",
    "----\n",
    "\n",
    "Ниже в блоке по примеру создайте класс Animal и реализуйте Абстракцию"
   ]
  },
  {
   "cell_type": "code",
   "execution_count": 20,
   "metadata": {
    "vscode": {
     "languageId": "polyglot-notebook"
    }
   },
   "outputs": [
    {
     "name": "stdout",
     "output_type": "stream",
     "text": [
      "Вы выгуляли домашнего питомца\n",
      "Подать голос\n"
     ]
    }
   ],
   "source": [
    "abstract class Animal \n",
    "{\n",
    "    public abstract void walk();\n",
    "\n",
    "        public void voice()\n",
    "    {\n",
    "        Console.WriteLine(\"Подать голос\");\n",
    "    }\n",
    "}\n",
    "\n",
    "class Pet : Animal\n",
    "{\n",
    "    public override void walk()\n",
    "    {\n",
    "        Console.WriteLine(\"Вы выгуляли домашнего питомца\");\n",
    "    }\n",
    "}\n",
    "\n",
    "Pet myPet = new Pet();\n",
    "\n",
    "myPet.walk();\n",
    "myPet.voice();"
   ]
  },
  {
   "cell_type": "markdown",
   "metadata": {},
   "source": [
    "<h4 style=\"color:Red\">Задание:</h4>\n",
    "\n",
    "----\n",
    "\n",
    "Ниже в блоке по примеру создайте класс Animal и реализуйте композицию"
   ]
  },
  {
   "cell_type": "code",
   "execution_count": 23,
   "metadata": {
    "vscode": {
     "languageId": "polyglot-notebook"
    }
   },
   "outputs": [
    {
     "name": "stdout",
     "output_type": "stream",
     "text": [
      "Вы вышли на прогулку\n",
      "Вы гуляете с питомцем\n",
      "Вы зашли домой\n"
     ]
    }
   ],
   "source": [
    "public class Walk\n",
    "{\n",
    "    public void Start() => Console.WriteLine(\"Вы вышли на прогулку\");\n",
    "    public void Stop() => Console.WriteLine(\"Вы зашли домой\");\n",
    "}\n",
    "\n",
    "public class Cat\n",
    "{\n",
    "    private Walk walk;\n",
    "\n",
    "    public Cat(Walk walk)\n",
    "    {\n",
    "        this.walk = walk;\n",
    "    }\n",
    "\n",
    "    public void TakeAWalk()\n",
    "    {\n",
    "        walk.Start();\n",
    "        Console.WriteLine(\"Вы гуляете с питомцем\");\n",
    "        walk.Stop();\n",
    "    }\n",
    "}\n",
    "\n",
    "Walk walk1 = new Walk();\n",
    "Cat myCat = new Cat(walk1);\n",
    "\n",
    "myCat.TakeAWalk();"
   ]
  },
  {
   "cell_type": "markdown",
   "metadata": {},
   "source": [
    "<h4 style=\"color:Red\">Задание:</h4>\n",
    "\n",
    "----\n",
    "\n",
    "Ниже в блоке по примеру создайте класс Animal и реализуйте агрегацию"
   ]
  },
  {
   "cell_type": "code",
   "execution_count": 24,
   "metadata": {
    "vscode": {
     "languageId": "polyglot-notebook"
    }
   },
   "outputs": [
    {
     "name": "stdout",
     "output_type": "stream",
     "text": [
      "Кошка вышла на прогулку\n",
      "Алексей вышел на прогулку с питомцем\n",
      "Кошка вышла на прогулку\n"
     ]
    }
   ],
   "source": [
    "abstract class Animal\n",
    "{\n",
    "    public abstract void walk();\n",
    "}\n",
    "\n",
    "class Cat : Animal\n",
    "{\n",
    "    private Owner owner;\n",
    "\n",
    "    public Cat(Owner owner)\n",
    "    {\n",
    "        this.owner = owner;\n",
    "    }\n",
    "\n",
    "    public override void walk()\n",
    "    {\n",
    "        Console.WriteLine(\"Кошка вышла на прогулку\");\n",
    "    }\n",
    "}\n",
    "\n",
    "class Owner\n",
    "{\n",
    "    public string Name {get;set;}\n",
    "    \n",
    "    public Owner(string name)\n",
    "    {\n",
    "        Name = name;\n",
    "    }\n",
    "\n",
    "    public void TakeAWalk(Animal animal)\n",
    "    {\n",
    "        Console.WriteLine($\"{Name} вышел на прогулку с питомцем\");\n",
    "        animal.walk();\n",
    "    }\n",
    "}\n",
    "\n",
    "Owner Alexey = new Owner(\"Алексей\");\n",
    "Cat myCat = new Cat(Alexey);\n",
    "\n",
    "myCat.walk();\n",
    "Alexey.TakeAWalk(myCat);"
   ]
  }
 ],
 "metadata": {
  "kernelspec": {
   "display_name": ".NET (C#)",
   "language": "C#",
   "name": ".net-csharp"
  },
  "language_info": {
   "name": "csharp"
  },
  "polyglot_notebook": {
   "kernelInfo": {
    "defaultKernelName": "csharp",
    "items": [
     {
      "aliases": [],
      "name": "csharp"
     }
    ]
   }
  }
 },
 "nbformat": 4,
 "nbformat_minor": 2
}
