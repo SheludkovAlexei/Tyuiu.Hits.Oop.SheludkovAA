{
 "cells": [
  {
   "cell_type": "markdown",
   "metadata": {},
   "source": [
    "<h4 style=\"color:Red\">Задание:</h4>\n",
    "\n",
    "----\n",
    "\n",
    "Ниже в блоке реализуйте принцип Single Responsibility Principle (Принцип единственной обязанности) на базе класса Animal"
   ]
  },
  {
   "cell_type": "code",
   "execution_count": 2,
   "metadata": {
    "dotnet_interactive": {
     "language": "csharp"
    },
    "polyglot_notebook": {
     "kernelName": "csharp"
    },
    "vscode": {
     "languageId": "polyglot-notebook"
    }
   },
   "outputs": [],
   "source": [
    "public interface IPet\n",
    "{\n",
    "    void Call();\n",
    "}\n",
    "\n",
    "public class Animal\n",
    "{\n",
    "    public void Voice()\n",
    "    {\n",
    "        Console.WriteLine(\"Животное подает голос\");\n",
    "    }\n",
    "}\n",
    "\n",
    "public class Cat : Animal, IPet\n",
    "{\n",
    "    public void Call()\n",
    "    {\n",
    "        Console.WriteLine(\"Вы позвали кошку и она идёт к вам\");\n",
    "    }\n",
    "}"
   ]
  },
  {
   "cell_type": "markdown",
   "metadata": {},
   "source": [
    "<h4 style=\"color:Red\">Задание:</h4>\n",
    "\n",
    "----\n",
    "\n",
    "Ниже в блоке реализуйте принцип Open/Closed Principle (Принцип открытости/закрытости) на базе класса Animal"
   ]
  },
  {
   "cell_type": "code",
   "execution_count": 3,
   "metadata": {
    "vscode": {
     "languageId": "polyglot-notebook"
    }
   },
   "outputs": [],
   "source": [
    "public interface ITalking\n",
    "{\n",
    "    void Voice();\n",
    "}\n",
    "\n",
    "public class Animal: ITalking\n",
    "{\n",
    "    public void Voice()\n",
    "    {\n",
    "        Console.WriteLine(\"Животное подает голос\");\n",
    "    }\n",
    "}\n",
    "\n",
    "public class Cat : ITalking\n",
    "{\n",
    "    public void Voice()\n",
    "    {\n",
    "        Console.WriteLine(\"Кошка мяукает\");\n",
    "    }\n",
    "\n",
    "    public void Call()\n",
    "    {\n",
    "        Console.WriteLine(\"Вы позвали кошку и она идёт к вам\");\n",
    "    }\n",
    "}"
   ]
  },
  {
   "cell_type": "markdown",
   "metadata": {},
   "source": [
    "<h4 style=\"color:Red\">Задание:</h4>\n",
    "\n",
    "----\n",
    "\n",
    "Ниже в блоке реализуйте принцип Liskov Substitution Principle (Принцип подстановки Лисков) на базе класса Animal"
   ]
  },
  {
   "cell_type": "code",
   "execution_count": null,
   "metadata": {
    "vscode": {
     "languageId": "polyglot-notebook"
    }
   },
   "outputs": [],
   "source": [
    "public interface IMammal\n",
    "{\n",
    "    void FeedWithMilk();\n",
    "}\n",
    "\n",
    "public interface IReptile\n",
    "{\n",
    "    void SearchTheFood();\n",
    "}\n",
    "\n",
    "public class Cat : IMammal\n",
    "{\n",
    "    public void Voice()\n",
    "    {\n",
    "        Console.WriteLine(\"Кошка мяукает\");\n",
    "    }\n",
    "\n",
    "    public void FeedWithMilk()\n",
    "    {\n",
    "        Console.WriteLine(\"Кошка покормила потомство молоком\");\n",
    "    }\n",
    "}\n",
    "\n",
    "public class Frog\n",
    "{\n",
    "    public void SearchTheFood()\n",
    "    {\n",
    "        Console.WriteLine(\"Лягушка ищет еду, чтобы покормить потомство\");\n",
    "    }\n",
    "}"
   ]
  },
  {
   "cell_type": "markdown",
   "metadata": {},
   "source": [
    "<h4 style=\"color:Red\">Задание:</h4>\n",
    "\n",
    "----\n",
    "\n",
    "Ниже в блоке реализуйте принцип Interface Segregation Principle (Принцип разделения интерфейсов) на базе класса Animal"
   ]
  },
  {
   "cell_type": "code",
   "execution_count": 4,
   "metadata": {
    "vscode": {
     "languageId": "polyglot-notebook"
    }
   },
   "outputs": [
    {
     "name": "stdout",
     "output_type": "stream",
     "text": [
      "Кошка мяукает\r\n"
     ]
    }
   ],
   "source": [
    "public interface IAnimal \n",
    "{\n",
    "    void Voice();\n",
    "}\n",
    "\n",
    "public interface ICanSwim\n",
    "{\n",
    "    void Swim();\n",
    "}\n",
    "\n",
    "public interface ICanFly\n",
    "{\n",
    "    void Fly();\n",
    "}\n",
    "\n",
    "public class Cat : IAnimal\n",
    "{\n",
    "    public void Voice()\n",
    "    {\n",
    "        Console.WriteLine(\"Кошка мяукает\");\n",
    "    }\n",
    "}\n",
    "\n",
    "public class Frog : IAnimal, ICanSwim\n",
    "{\n",
    "    public void Voice()\n",
    "    {\n",
    "        Console.WriteLine(\"Лягушка квакает\");\n",
    "    }\n",
    "\n",
    "    public void Swim()\n",
    "    {\n",
    "        Console.WriteLine(\"Лягушка плывёт\");\n",
    "    }\n",
    "}"
   ]
  },
  {
   "cell_type": "markdown",
   "metadata": {},
   "source": [
    "<h4 style=\"color:Red\">Задание:</h4>\n",
    "\n",
    "----\n",
    "\n",
    "Ниже в блоке реализуйте принцип Dependency Inversion Principle (Принцип инверсии зависимостей) на базе класса Animal"
   ]
  },
  {
   "cell_type": "code",
   "execution_count": 8,
   "metadata": {
    "vscode": {
     "languageId": "polyglot-notebook"
    }
   },
   "outputs": [
    {
     "name": "stdout",
     "output_type": "stream",
     "text": [
      "Животное покормило потомство молоком\n",
      "Животное ищет пропитание для потомства и кормит его\n"
     ]
    }
   ],
   "source": [
    "public interface IFeed\n",
    "{\n",
    "    void Feed();\n",
    "}\n",
    "\n",
    "public class Mammal: IFeed\n",
    "{\n",
    "    public void Feed()\n",
    "    {\n",
    "        Console.WriteLine(\"Животное покормило потомство молоком\");\n",
    "    }\n",
    "}\n",
    "\n",
    "public class Reptile: IFeed\n",
    "{\n",
    "    public void Feed()\n",
    "    {\n",
    "        Console.WriteLine(\"Животное ищет пропитание для потомства и кормит его\");\n",
    "    }\n",
    "}\n",
    "\n",
    "public class Animal\n",
    "{\n",
    "    private IFeed _feed;\n",
    "\n",
    "    public Animal(IFeed feed)\n",
    "    {\n",
    "        _feed = feed;\n",
    "    }\n",
    "\n",
    "    public void FeedOffspring()\n",
    "    {\n",
    "        _feed.Feed();\n",
    "    }\n",
    "}\n",
    "\n",
    "Mammal m = new Mammal();\n",
    "Animal cat = new Animal(m);\n",
    "cat.FeedOffspring();\n",
    "\n",
    "Reptile r = new Reptile();\n",
    "Animal frog = new Animal(r);\n",
    "frog.FeedOffspring();\n",
    "\n"
   ]
  }
 ],
 "metadata": {
  "kernelspec": {
   "display_name": ".NET (C#)",
   "language": "C#",
   "name": ".net-csharp"
  },
  "language_info": {
   "name": "csharp"
  },
  "polyglot_notebook": {
   "kernelInfo": {
    "defaultKernelName": "csharp",
    "items": [
     {
      "aliases": [],
      "name": "csharp"
     }
    ]
   }
  }
 },
 "nbformat": 4,
 "nbformat_minor": 2
}
