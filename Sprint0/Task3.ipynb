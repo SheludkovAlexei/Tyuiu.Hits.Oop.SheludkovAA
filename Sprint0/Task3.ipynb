{
 "cells": [
  {
   "cell_type": "markdown",
   "metadata": {},
   "source": [
    "<h1 style=\"color:DodgerBlue\">Индивидальный проект</h1>"
   ]
  },
  {
   "cell_type": "markdown",
   "metadata": {},
   "source": [
    "<h2 style=\"color:DodgerBlue\">Название проекта:</h2> Организованные мероприятия\n",
    "\n",
    "----\n",
    "\n",
    "### Вариант задания : 20\n"
   ]
  },
  {
   "cell_type": "markdown",
   "metadata": {},
   "source": [
    "<h2 style=\"color:DodgerBlue\">Описание проекта:</h2>\n",
    "\n",
    "----\n",
    "\n",
    "Создать базовый класс Event в C#, который будет представлять организованные\n",
    "мероприятия. На основе этого класса разработать 2-3 производных класса,\n",
    "демонстрирующих принципы наследования и полиморфизма. В каждом из классов\n",
    "должны быть реализованы новые атрибуты и методы, а также переопределены\n",
    "некоторые методы базового класса для демонстрации полиморфизма.\n",
    "\n",
    "Требования к базовому классу Event:\n",
    "\n",
    "• Атрибуты: ID мероприятия (EventId), Название мероприятия (EventName),\n",
    "Дата проведения (Date).\n",
    "\n",
    "• Методы:\n",
    "\n",
    "o RegisterParticipant(): метод для регистрации участника.\n",
    "\n",
    "o NotifyParticipants(): метод для уведомления участников о мероприятии.\n",
    "\n",
    "o GetEventDetails(): метод для получения деталей мероприятия.\n",
    "\n",
    "\n",
    "Требования к производным классам:\n",
    "1. Конференция (Conference): Должна содержать дополнительные атрибуты,\n",
    "такие как Количество спикеров (SpeakersCount).\n",
    "Метод NotifyParticipants() должен быть переопределен для отправки\n",
    "уведомлений с программой конференции.\n",
    "2. Фестиваль (Festival): Должна содержать дополнительные атрибуты, такие как\n",
    "Количество музыкальных групп (BandsCount).\n",
    "Метод RegisterParticipant() должен быть переопределен для регистрации\n",
    "участников с выбором интересующих музыкальных жанров.\n",
    "3. Семинар (Seminar) (если требуется третий класс): Должна содержать\n",
    "дополнительные атрибуты, такие как Тематические области (Topics).\n",
    "Метод GetEventDetails() должен быть переопределен для отображения\n",
    "тематических областей семинара вместе с другими деталями мероприятия\n"
   ]
  },
  {
   "cell_type": "markdown",
   "metadata": {},
   "source": [
    "<h2 style=\"color:DodgerBlue\">Реализация:</h2>\n",
    "\n",
    "----"
   ]
  },
  {
   "cell_type": "code",
   "execution_count": 2,
   "metadata": {
    "dotnet_interactive": {
     "language": "csharp"
    },
    "polyglot_notebook": {
     "kernelName": "csharp"
    }
   },
   "outputs": [],
   "source": [
    "public class Event\n",
    "{\n",
    "    public int EventId;\n",
    "    public string EventName;\n",
    "    public DateOnly EventDate;\n",
    "\n",
    "    public virtual void RegisterParticipant()\n",
    "    {\n",
    "        Console.WriteLine(\"Пользователь зарегистрирован\");\n",
    "    }\n",
    "\n",
    "    public virtual void NotifyParticipants()\n",
    "    {\n",
    "        Console.WriteLine(\"Пользователь уведомлён\");\n",
    "    }\n",
    "\n",
    "    public virtual void GetEventDetails()\n",
    "    {\n",
    "        Console.WriteLine();\n",
    "    }\n",
    "}\n",
    "\n",
    "public class Conference : Event\n",
    "{\n",
    "    public int SpeakersCount;\n",
    "    \n",
    "    public override void NotifyParticipants()\n",
    "    {\n",
    "        Console.WriteLine(\"Пользователь уведомлён о конференции\");\n",
    "    }\n",
    "    \n",
    "}\n",
    "\n",
    "public class Festival : Event\n",
    "{\n",
    "    public int BandsCount;\n",
    "\n",
    "    public override void RegisterParticipant()\n",
    "    {\n",
    "        Console.WriteLine(\"Пользователь выбрал музыкальные жанры и зарегистрирован\");\n",
    "    }\n",
    "}\n",
    "\n",
    "public class Seminar : Event\n",
    "{\n",
    "    public string[] Topics;\n",
    "\n",
    "    public override void GetEventDetails()\n",
    "    {\n",
    "        Console.WriteLine();\n",
    "    }\n",
    "}\n"
   ]
  }
 ],
 "metadata": {
  "kernelspec": {
   "display_name": ".NET (C#)",
   "language": "C#",
   "name": ".net-csharp"
  },
  "polyglot_notebook": {
   "kernelInfo": {
    "defaultKernelName": "csharp",
    "items": [
     {
      "aliases": [],
      "languageName": "csharp",
      "name": "csharp"
     }
    ]
   }
  }
 },
 "nbformat": 4,
 "nbformat_minor": 2
}
