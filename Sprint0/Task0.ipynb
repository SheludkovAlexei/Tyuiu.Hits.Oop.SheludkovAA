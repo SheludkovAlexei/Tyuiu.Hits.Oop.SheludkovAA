{
 "cells": [
  {
   "cell_type": "markdown",
   "metadata": {},
   "source": [
    "<h4 style=\"color:Red\">Задание:</h4>\n",
    "\n",
    "----\n",
    "\n",
    "#### Ниже в блоке (Code) решите задачу\n",
    "\n",
    "Дан целочисленный массив numbers со следующими элементами { 5, 8, 1, 3, 9, 6, 7, 2 }, нужно выполнить следующие операции:\n",
    "1.\tНайти минимальное и максимальное значения в массиве.\n",
    "2.\tНайти сумму всех элементов массива.\n",
    "3.\tНайти среднее арифметическое всех элементов массива.\n",
    "4.\tОтсортировать массив в порядке возрастания.\n",
    "5.\tПроверить, содержит ли массив определенное число.\n"
   ]
  },
  {
   "cell_type": "code",
   "execution_count": 28,
   "metadata": {
    "dotnet_interactive": {
     "language": "csharp"
    },
    "polyglot_notebook": {
     "kernelName": "csharp"
    },
    "vscode": {
     "languageId": "polyglot-notebook"
    }
   },
   "outputs": [
    {
     "name": "stdout",
     "output_type": "stream",
     "text": [
      "Максимальное число массива равна 9, Минимальное число массива равна 1\r\n"
     ]
    }
   ],
   "source": [
    "int[] arr = { 5, 8, 1, 3, 9, 6, 7, 2 };\n",
    "//1\n",
    "int mn = 1000;\n",
    "int mx = 0;\n",
    "for(int i = 0; i<arr.Count();i++){\n",
    "    if (mn>arr[i]){\n",
    "        mn=arr[i];\n",
    "    }\n",
    "    if(mx<arr[i]){\n",
    "        mx=arr[i];\n",
    "    }\n",
    "}\n",
    "Console.WriteLine($\"Максимальное число массива равна {mx}, Минимальное число массива равна {mn}\")\n"
   ]
  },
  {
   "cell_type": "code",
   "execution_count": 29,
   "metadata": {
    "dotnet_interactive": {
     "language": "csharp"
    },
    "polyglot_notebook": {
     "kernelName": "csharp"
    },
    "vscode": {
     "languageId": "polyglot-notebook"
    }
   },
   "outputs": [
    {
     "name": "stdout",
     "output_type": "stream",
     "text": [
      "Сумма всех элементов массива равна 41\r\n"
     ]
    }
   ],
   "source": [
    "//2\n",
    "int cnt = 0;\n",
    "for(int i = 0; i<arr.Count();i++){\n",
    "    cnt+=arr[i];\n",
    "}\n",
    "Console.WriteLine($\"Сумма всех элементов массива равна {cnt}\")"
   ]
  },
  {
   "cell_type": "code",
   "execution_count": 30,
   "metadata": {
    "dotnet_interactive": {
     "language": "csharp"
    },
    "polyglot_notebook": {
     "kernelName": "csharp"
    },
    "vscode": {
     "languageId": "polyglot-notebook"
    }
   },
   "outputs": [
    {
     "name": "stdout",
     "output_type": "stream",
     "text": [
      "Среднее арифметическое всех элементов массива равно 5.125\r\n"
     ]
    }
   ],
   "source": [
    "//3\n",
    "double cp = Convert.ToDouble(cnt)/Convert.ToDouble(arr.Count());\n",
    "Console.WriteLine($\"Среднее арифметическое всех элементов массива равно {cp}\")"
   ]
  },
  {
   "cell_type": "code",
   "execution_count": 31,
   "metadata": {
    "dotnet_interactive": {
     "language": "csharp"
    },
    "polyglot_notebook": {
     "kernelName": "csharp"
    },
    "vscode": {
     "languageId": "polyglot-notebook"
    }
   },
   "outputs": [
    {
     "name": "stdout",
     "output_type": "stream",
     "text": [
      "12356789"
     ]
    }
   ],
   "source": [
    "//4\n",
    "Array.Sort(arr);\n",
    "for(int i = 0; i<arr.Count();i++){\n",
    "    Console.Write(arr[i]+\"\");\n",
    "}\n"
   ]
  },
  {
   "cell_type": "code",
   "execution_count": 32,
   "metadata": {
    "dotnet_interactive": {
     "language": "csharp"
    },
    "polyglot_notebook": {
     "kernelName": "csharp"
    },
    "vscode": {
     "languageId": "polyglot-notebook"
    }
   },
   "outputs": [
    {
     "name": "stdout",
     "output_type": "stream",
     "text": [
      "Массив не содержит число 4\r\n"
     ]
    }
   ],
   "source": [
    "//5\n",
    "int d = 4;\n",
    "bool ss = false;\n",
    "for(int i = 0; i<arr.Count();i++){\n",
    "    if (arr[i]==d){\n",
    "        ss=true;\n",
    "    }\n",
    "}\n",
    "if(ss){\n",
    "    Console.WriteLine(\"Массив содержит число \" +d);\n",
    "}\n",
    "else{\n",
    "    Console.WriteLine(\"Массив не содержит число \" +d);\n",
    "}\n"
   ]
  }
 ],
 "metadata": {
  "kernelspec": {
   "display_name": ".NET (C#)",
   "language": "C#",
   "name": ".net-csharp"
  },
  "language_info": {
   "name": "csharp"
  },
  "polyglot_notebook": {
   "kernelInfo": {
    "defaultKernelName": "csharp",
    "items": [
     {
      "aliases": [],
      "name": "csharp"
     }
    ]
   }
  }
 },
 "nbformat": 4,
 "nbformat_minor": 2
}
