{
 "cells": [
  {
   "cell_type": "markdown",
   "metadata": {},
   "source": [
    "<h4 style=\"color:Red\">Задание:</h4>\n",
    "\n",
    "----\n",
    "\n",
    "Ниже в блоке по примеру создайте базовый класс Animal и реализуйте структуру класса, атрибуты, методы, модификаторы доступа, статические члены, конструкторы, интерфейсы и состояние класса. "
   ]
  },
  {
   "cell_type": "code",
   "execution_count": 6,
   "metadata": {
    "dotnet_interactive": {
     "language": "csharp"
    },
    "polyglot_notebook": {
     "kernelName": "csharp"
    },
    "vscode": {
     "languageId": "polyglot-notebook"
    }
   },
   "outputs": [
    {
     "name": "stdout",
     "output_type": "stream",
     "text": [
      "Маркиз мяукнул.\n",
      "Мейн-Кун\n"
     ]
    }
   ],
   "source": [
    "public interface IVoice\n",
    "{\n",
    "    void Voice(string Name);\n",
    "}\n",
    "\n",
    "public class Animal : IVoice\n",
    "{\n",
    "    public string Species { get; set; } //атрибуты\n",
    "    public string Name { get; set; } //атрибуты\n",
    "    protected string Type; //вид животного\n",
    "    public void Voice(string Name) //метод\n",
    "    {\n",
    "        Console.WriteLine($\"{Name} издал голос.\");\n",
    "    } \n",
    "\n",
    "    public static int TotalAnimals { get; private set; }\n",
    "\n",
    "    public Animal()\n",
    "    {\n",
    "        TotalAnimals++;\n",
    "    }\n",
    "}\n",
    "\n",
    "public class Cat : Animal, IVoice\n",
    "{\n",
    "    public Cat(String _name)\n",
    "    {\n",
    "        Name = _name;\n",
    "        Type = \"Кошка\";\n",
    "        Species = \"Мейн-Кун\";\n",
    "    }\n",
    "\n",
    "    public void Voice(string Name)\n",
    "    {\n",
    "        Console.WriteLine($\"{Name} мяукнул.\");\n",
    "    }\n",
    "\n",
    "}\n",
    "\n",
    "Cat cat1 = new Cat(\"Маркиз\");\n",
    "cat1.Voice(cat1.Name);\n",
    "Console.WriteLine(cat1.Species);\n"
   ]
  }
 ],
 "metadata": {
  "kernelspec": {
   "display_name": ".NET (C#)",
   "language": "C#",
   "name": ".net-csharp"
  },
  "language_info": {
   "name": "csharp"
  },
  "polyglot_notebook": {
   "kernelInfo": {
    "defaultKernelName": "csharp",
    "items": [
     {
      "aliases": [],
      "name": "csharp"
     }
    ]
   }
  }
 },
 "nbformat": 4,
 "nbformat_minor": 2
}
