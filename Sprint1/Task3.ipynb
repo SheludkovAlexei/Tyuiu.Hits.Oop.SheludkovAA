{
 "cells": [
  {
   "cell_type": "markdown",
   "metadata": {},
   "source": [
    "<h1 style=\"color:DodgerBlue\">Индивидальный проект</h1>"
   ]
  },
  {
   "cell_type": "markdown",
   "metadata": {},
   "source": [
    "<h2 style=\"color:DodgerBlue\">Название проекта:</h2> Организованные мероприятия\n",
    "\n",
    "----\n",
    "\n",
    "### Вариант задания : 20\n"
   ]
  },
  {
   "cell_type": "markdown",
   "metadata": {},
   "source": [
    "<h2 style=\"color:DodgerBlue\">Описание проекта:</h2>\n",
    "\n",
    "----\n",
    "\n",
    "Создать базовый класс Event в C#, который будет представлять организованные\n",
    "мероприятия. На основе этого класса разработать 2-3 производных класса,\n",
    "демонстрирующих принципы наследования и полиморфизма. В каждом из классов\n",
    "должны быть реализованы новые атрибуты и методы, а также переопределены\n",
    "некоторые методы базового класса для демонстрации полиморфизма.\n",
    "\n",
    "Требования к базовому классу Event:\n",
    "\n",
    "• Атрибуты: ID мероприятия (EventId), Название мероприятия (EventName),\n",
    "Дата проведения (Date).\n",
    "\n",
    "• Методы:\n",
    "\n",
    "o RegisterParticipant(): метод для регистрации участника.\n",
    "\n",
    "o NotifyParticipants(): метод для уведомления участников о мероприятии.\n",
    "\n",
    "o GetEventDetails(): метод для получения деталей мероприятия.\n",
    "\n",
    "\n",
    "Требования к производным классам:\n",
    "1. Конференция (Conference): Должна содержать дополнительные атрибуты,\n",
    "такие как Количество спикеров (SpeakersCount).\n",
    "Метод NotifyParticipants() должен быть переопределен для отправки\n",
    "уведомлений с программой конференции.\n",
    "2. Фестиваль (Festival): Должна содержать дополнительные атрибуты, такие как\n",
    "Количество музыкальных групп (BandsCount).\n",
    "Метод RegisterParticipant() должен быть переопределен для регистрации\n",
    "участников с выбором интересующих музыкальных жанров.\n",
    "3. Семинар (Seminar) (если требуется третий класс): Должна содержать\n",
    "дополнительные атрибуты, такие как Тематические области (Topics).\n",
    "Метод GetEventDetails() должен быть переопределен для отображения\n",
    "тематических областей семинара вместе с другими деталями мероприятия\n",
    "\n",
    "Дополнительное задание\n",
    "\n",
    "Добавьте к сущестующим классам конструктора классов с использованием гетторов и сетторов и реализуйте взаимодействие объектов между собой\n"
   ]
  },
  {
   "cell_type": "markdown",
   "metadata": {},
   "source": [
    "<h2 style=\"color:DodgerBlue\">Реализация:</h2>\n",
    "\n",
    "----"
   ]
  },
  {
   "cell_type": "code",
   "execution_count": 27,
   "metadata": {
    "dotnet_interactive": {
     "language": "csharp"
    },
    "polyglot_notebook": {
     "kernelName": "csharp"
    },
    "vscode": {
     "languageId": "polyglot-notebook"
    }
   },
   "outputs": [
    {
     "name": "stdout",
     "output_type": "stream",
     "text": [
      "Пользователь Алексей зарегистрирован. \n",
      "\n",
      "Все участники мероприятия Выступление уведомлены.\n",
      "Содержимое письма: Мероприятие Выступление пройдет уже совсем скоро. Не пропустите его 9/27/2024\n",
      "\n",
      "Детали мероприятия Выступление.\n",
      "Дата мероприятия: 9/27/2024. \n",
      "Кол-во участников: 1.\n",
      "Место проведения: Улица Мельникайте Дом 72 Этаж 11 Аудитория 228. \n",
      "-----------------------------------\n",
      "Пользователь Никита зарегистрирован. \n",
      "\n",
      "Все участники конференции Хорошая конференция уведомлены.\n",
      "Содержимое письма: Конференция Хорошая конференция пройдет уже совсем скоро. Не пропустите её 9/19/2024.\n",
      "Программа конференции Хорошая конференция:\n",
      "Тема конференции: О вреде курения\n",
      "Кол-во спикеров: 4\n",
      "\n",
      "Детали мероприятия Хорошая конференция.\n",
      "Дата мероприятия: 9/19/2024. \n",
      "Кол-во участников: 5.\n",
      "Место проведения: Улица Московский тракт Дом 121. \n",
      "-----------------------------------\n"
     ]
    }
   ],
   "source": [
    "public class Event\n",
    "{\n",
    "    public int EventId {get; private set;}\n",
    "    public string EventName {get;set;}\n",
    "    public DateOnly EventDate {get;set;}\n",
    "    public int ParticipantsCount {get; set;}\n",
    "    public string EventPlace {get; set;}\n",
    "\n",
    "    public Event(string name, DateOnly date, string place)\n",
    "    {\n",
    "        Random rnd = new Random();\n",
    "        EventId = rnd.Next(100000000);\n",
    "        EventName = name;\n",
    "        EventDate = date;\n",
    "        ParticipantsCount = 0;\n",
    "        EventPlace = place;\n",
    "    }\n",
    "\n",
    "    public virtual void RegisterParticipant(string Name)\n",
    "    {\n",
    "        Console.WriteLine($\"Пользователь {Name} зарегистрирован. \");\n",
    "        ParticipantsCount++;\n",
    "    }\n",
    "\n",
    "    public virtual void NotifyParticipants()\n",
    "    {\n",
    "        Console.WriteLine($\"Все участники мероприятия {EventName} уведомлены.\\nСодержимое письма: Мероприятие {EventName} пройдет уже совсем скоро. Не пропустите его {EventDate}\");\n",
    "    }\n",
    "\n",
    "    public virtual void GetEventDetails()\n",
    "    {\n",
    "        Console.WriteLine($\"Детали мероприятия {EventName}.\\nДата мероприятия: {EventDate}. \\nКол-во участников: {ParticipantsCount}.\\nМесто проведения: {EventPlace}. \");\n",
    "    }\n",
    "}\n",
    "\n",
    "public class Conference : Event\n",
    "{\n",
    "    public int SpeakersCount {get;set;}\n",
    "    public string Theme {get;set;}\n",
    "\n",
    "    public Conference(string name, DateOnly date, string place, string theme) : base(name,date,place)\n",
    "    {\n",
    "        Random rnd = new Random();\n",
    "        SpeakersCount = rnd.Next(5);\n",
    "        Theme = theme;\n",
    "        ParticipantsCount +=SpeakersCount;\n",
    "    }\n",
    "    \n",
    "    public override void NotifyParticipants()\n",
    "    {\n",
    "        Console.WriteLine($\"Все участники конференции {EventName} уведомлены.\\nСодержимое письма: Конференция {EventName} пройдет уже совсем скоро. Не пропустите её {EventDate}.\\n\"+\n",
    "        $\"Программа конференции {EventName}:\\nТема конференции: {Theme}\\nКол-во спикеров: {SpeakersCount}\");\n",
    "    }\n",
    "    \n",
    "}\n",
    "\n",
    "public class Festival : Event\n",
    "{\n",
    "    public int BandsCount;\n",
    "\n",
    "    public Festival(string name, DateOnly date, string place) : base(name,date,place)\n",
    "    {\n",
    "        Random rnd = new Random();\n",
    "        BandsCount = rnd.Next(10);\n",
    "    }\n",
    "\n",
    "    public override void RegisterParticipant(string Name)\n",
    "    {\n",
    "        Console.WriteLine($\"Пользователь {Name} выбрал музыкальные жанры и зарегистрирован.\");\n",
    "    }\n",
    "}\n",
    "\n",
    "public class Seminar : Event\n",
    "{\n",
    "    public string[] Topics;\n",
    "\n",
    "    public Seminar(string name, DateOnly date, string place) : base(name,date,place)\n",
    "    {\n",
    "        \n",
    "    }\n",
    "\n",
    "    public override void GetEventDetails()\n",
    "    {\n",
    "        Console.WriteLine();\n",
    "    }\n",
    "}\n",
    "\n",
    "Event event1 = new Event(\"Выступление\", DateOnly.FromDateTime(DateTime.Now.AddDays(10)),\"Улица Мельникайте Дом 72 Этаж 11 Аудитория 228\");\n",
    "event1.RegisterParticipant(\"Алексей\");\n",
    "Console.WriteLine();\n",
    "event1.NotifyParticipants();\n",
    "Console.WriteLine();\n",
    "event1.GetEventDetails();\n",
    "Console.WriteLine(\"-----------------------------------\");\n",
    "\n",
    "Conference conf = new Conference(\"Хорошая конференция\", DateOnly.FromDateTime(DateTime.Now.AddDays(2)),\"Улица Московский тракт Дом 121\", \"О вреде курения\" );\n",
    "conf.RegisterParticipant(\"Никита\");\n",
    "Console.WriteLine();\n",
    "conf.NotifyParticipants();\n",
    "Console.WriteLine();\n",
    "conf.GetEventDetails();\n",
    "Console.WriteLine(\"-----------------------------------\");\n",
    "\n"
   ]
  }
 ],
 "metadata": {
  "kernelspec": {
   "display_name": ".NET (C#)",
   "language": "C#",
   "name": ".net-csharp"
  },
  "language_info": {
   "name": "csharp"
  },
  "polyglot_notebook": {
   "kernelInfo": {
    "defaultKernelName": "csharp",
    "items": [
     {
      "aliases": [],
      "name": "csharp"
     }
    ]
   }
  }
 },
 "nbformat": 4,
 "nbformat_minor": 2
}
