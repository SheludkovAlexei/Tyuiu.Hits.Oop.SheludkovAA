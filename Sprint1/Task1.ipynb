{
 "cells": [
  {
   "cell_type": "markdown",
   "metadata": {},
   "source": [
    "<h4 style=\"color:Red\">Задание:</h4>\n",
    "\n",
    "----\n",
    "\n",
    "Ниже в блоке по примеру создайте базовый класс Animal и производные классы (2-3 например Dog, Cat и так далее) реализуйте структуру и объявление класса, включая свойства, геттеры и сеттеры, а также статические и обычными атрибуты и метода класса"
   ]
  },
  {
   "cell_type": "code",
   "execution_count": 20,
   "metadata": {
    "dotnet_interactive": {
     "language": "csharp"
    },
    "polyglot_notebook": {
     "kernelName": "csharp"
    },
    "vscode": {
     "languageId": "polyglot-notebook"
    }
   },
   "outputs": [
    {
     "name": "stdout",
     "output_type": "stream",
     "text": [
      "Маркиз Мейн-кун\n",
      "Маркиз мяукнул.\n",
      "Рекс Овчарка\n",
      "Рекс гавкнул.\n",
      "Клава Красная\n",
      "Клава издал голос.\n",
      "Общее количество животных: 3\n"
     ]
    }
   ],
   "source": [
    "public interface IVoice\n",
    "{\n",
    "    void Voice();\n",
    "}\n",
    "\n",
    "public class Animal\n",
    "{\n",
    "    private string _species;\n",
    "    private int _age;\n",
    "    private string _name;\n",
    "\n",
    "    public string Species\n",
    "    {\n",
    "        get { return _species; }\n",
    "        set { _species = value; }\n",
    "    }\n",
    "    public int Age\n",
    "    {\n",
    "        get { return _age; }\n",
    "        set\n",
    "        {\n",
    "            if (value >= 0)\n",
    "                _age = value;\n",
    "            else\n",
    "                throw new ArgumentOutOfRangeException(\"Возраст не может быть отрицательный!\");\n",
    "        }\n",
    "    }\n",
    "    public string Name\n",
    "    {\n",
    "        get { return _name; }\n",
    "        set { _name= value; }\n",
    "    }\n",
    "\n",
    "    public static int TotalAnimals { get; private set; } = 0;\n",
    "\n",
    "    public Animal(string name, string species)\n",
    "    {\n",
    "        TotalAnimals++;\n",
    "        Name = name;\n",
    "        Species = species;\n",
    "    }\n",
    "\n",
    "    public void Voice()\n",
    "    {\n",
    "        Console.WriteLine($\"{Name} издал голос.\");\n",
    "    }\n",
    "\n",
    "    public static void DisplayTotalAnimals()\n",
    "    {\n",
    "        Console.WriteLine($\"Общее количество животных: {TotalAnimals}\");\n",
    "    }\n",
    "}\n",
    "\n",
    "public class Cat : Animal, IVoice\n",
    "{\n",
    "    public void Voice()\n",
    "    {\n",
    "        Console.WriteLine($\"{Name} мяукнул.\");\n",
    "    }\n",
    "\n",
    "    public Cat(string name, string species): base(name,species)\n",
    "    {\n",
    "        Name = name;\n",
    "        Species = species;\n",
    "    }\n",
    "}\n",
    "\n",
    "public class Dog : Animal, IVoice\n",
    "{\n",
    "    public void Voice()\n",
    "    {\n",
    "        Console.WriteLine($\"{Name} гавкнул.\");\n",
    "    }\n",
    "\n",
    "    public Dog(string name, string species): base(name,species)\n",
    "    {\n",
    "        Name = name;\n",
    "        Species = species;\n",
    "    }\n",
    "}\n",
    "\n",
    "Cat cat1 = new Cat(\"Маркиз\",\"Мейн-кун\");\n",
    "Console.WriteLine(cat1.Name +' ' + cat1.Species);\n",
    "cat1.Voice();\n",
    "\n",
    "Dog dog1 = new Dog(\"Рекс\", \"Овчарка\");\n",
    "Console.WriteLine(dog1.Name+' '+dog1.Species);\n",
    "dog1.Voice();\n",
    "\n",
    "Animal frog = new Animal(\"Клава\", \"Красная\");\n",
    "Console.WriteLine(frog.Name+' '+frog.Species);\n",
    "frog.Voice();\n",
    "Animal.DisplayTotalAnimals();"
   ]
  }
 ],
 "metadata": {
  "kernelspec": {
   "display_name": ".NET (C#)",
   "language": "C#",
   "name": ".net-csharp"
  },
  "language_info": {
   "name": "csharp"
  },
  "polyglot_notebook": {
   "kernelInfo": {
    "defaultKernelName": "csharp",
    "items": [
     {
      "aliases": [],
      "name": "csharp"
     }
    ]
   }
  }
 },
 "nbformat": 4,
 "nbformat_minor": 2
}
