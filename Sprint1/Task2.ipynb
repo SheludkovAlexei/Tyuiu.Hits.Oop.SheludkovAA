{
 "cells": [
  {
   "cell_type": "markdown",
   "metadata": {},
   "source": [
    "<h4 style=\"color:Red\">Задание:</h4>\n",
    "\n",
    "----\n",
    "\n",
    "Ниже в блоке по примеру создайте базовый класс Animal и производные классы (2-3 например Dog, Cat и так далее) реализуйте структуру и объявление класса, включая свойства, геттеры и сеттеры, а также статические и обычными атрибуты и метода класса с реализацией взаимодействия между объектами.\n"
   ]
  },
  {
   "cell_type": "code",
   "execution_count": 7,
   "metadata": {
    "dotnet_interactive": {
     "language": "csharp"
    },
    "polyglot_notebook": {
     "kernelName": "csharp"
    },
    "vscode": {
     "languageId": "polyglot-notebook"
    }
   },
   "outputs": [
    {
     "name": "stdout",
     "output_type": "stream",
     "text": [
      "Маркиз Мейн-кун \n",
      "Маркиз грустно мяукнул. Кажется он хочет кушать.\n",
      "Рекс Овчарка\n",
      "Рекс грустно проскулил. Кажется он хочет кушать.\n",
      "Клава Красная\n",
      "Клава грустно издал голос. Кажется он хочет кушать.\n",
      "Общее количество животных: 3\n",
      "\n",
      "Вы накормили Маркиз\n",
      "Маркиз весело промурчал.\n"
     ]
    }
   ],
   "source": [
    "public interface IAnimals\n",
    "{\n",
    "    void Voice();\n",
    "    void Feed();\n",
    "}\n",
    "\n",
    "public class Animal : IAnimals\n",
    "{\n",
    "    private string _species;\n",
    "    private int _age;\n",
    "    private string _name;\n",
    "    protected string type; \n",
    "    private bool _satisfied = false;\n",
    "\n",
    "    public string Species\n",
    "    {\n",
    "        get { return _species; }\n",
    "        set { _species = value; }\n",
    "    }\n",
    "    public int Age\n",
    "    {\n",
    "        get { return _age; }\n",
    "        set\n",
    "        {\n",
    "            if (value >= 0)\n",
    "                _age = value;\n",
    "            else\n",
    "                throw new ArgumentOutOfRangeException(\"Возраст не может быть отрицательный!\");\n",
    "        }\n",
    "    }\n",
    "    public string Name\n",
    "    {\n",
    "        get { return _name; }\n",
    "        set { _name= value; }\n",
    "    }\n",
    "    public bool Satisfied\n",
    "    {\n",
    "        get { return _satisfied; }\n",
    "        set { _satisfied = value; }\n",
    "    }\n",
    "\n",
    "    public static int TotalAnimals { get; private set; } = 0;\n",
    "\n",
    "    public Animal(string name, string species)\n",
    "    {\n",
    "        TotalAnimals++;\n",
    "        Name = name;\n",
    "        Species = species;\n",
    "    }\n",
    "\n",
    "    public void Voice()\n",
    "    {\n",
    "        if (Satisfied)\n",
    "        {\n",
    "            Console.WriteLine($\"{Name} весело издал голос.\");\n",
    "        }\n",
    "        else\n",
    "        {\n",
    "            Console.WriteLine($\"{Name} грустно издал голос. Кажется он хочет кушать.\");\n",
    "        }\n",
    "    }\n",
    "\n",
    "    public void Feed()\n",
    "    {\n",
    "        Console.WriteLine($\"Вы накормили {Name}\");\n",
    "        Satisfied = true;\n",
    "    }\n",
    "\n",
    "    public static void DisplayTotalAnimals()\n",
    "    {\n",
    "        Console.WriteLine($\"Общее количество животных: {TotalAnimals}\");\n",
    "    }\n",
    "}\n",
    "\n",
    "public class Cat : Animal, IAnimals\n",
    "{\n",
    "    public void Voice()\n",
    "    {\n",
    "        if (Satisfied)\n",
    "        {\n",
    "            Console.WriteLine($\"{Name} весело промурчал.\");\n",
    "        }\n",
    "        else\n",
    "        {\n",
    "            Console.WriteLine($\"{Name} грустно мяукнул. Кажется он хочет кушать.\");\n",
    "        }\n",
    "    }\n",
    "\n",
    "    public Cat(string name, string species): base(name,species)\n",
    "    {\n",
    "        Name = name;\n",
    "        Species = species;\n",
    "        type = \"Кошка\";\n",
    "    }\n",
    "}\n",
    "\n",
    "public class Dog : Animal, IAnimals\n",
    "{\n",
    "    public void Voice()\n",
    "    {\n",
    "        if (Satisfied)\n",
    "        {\n",
    "            Console.WriteLine($\"{Name} бодро прогавкал.\");\n",
    "        }\n",
    "        else\n",
    "        {\n",
    "            Console.WriteLine($\"{Name} грустно проскулил. Кажется он хочет кушать.\");\n",
    "        }\n",
    "    }\n",
    "\n",
    "    public Dog(string name, string species): base(name,species)\n",
    "    {\n",
    "        Name = name;\n",
    "        Species = species;\n",
    "        type = \"Собака\";\n",
    "    }\n",
    "}\n",
    "\n",
    "Cat cat1 = new Cat(\"Маркиз\",\"Мейн-кун\");\n",
    "Console.WriteLine(cat1.Name +' ' + cat1.Species+' ');\n",
    "cat1.Voice();\n",
    "\n",
    "Dog dog1 = new Dog(\"Рекс\", \"Овчарка\");\n",
    "Console.WriteLine(dog1.Name+' '+dog1.Species);\n",
    "dog1.Voice();\n",
    "\n",
    "Animal frog = new Animal(\"Клава\", \"Красная\");\n",
    "Console.WriteLine(frog.Name+' '+frog.Species);\n",
    "frog.Voice();\n",
    "Animal.DisplayTotalAnimals();\n",
    "\n",
    "Console.WriteLine();\n",
    "cat1.Feed();\n",
    "cat1.Voice();"
   ]
  }
 ],
 "metadata": {
  "kernelspec": {
   "display_name": ".NET (C#)",
   "language": "C#",
   "name": ".net-csharp"
  },
  "language_info": {
   "name": "csharp"
  },
  "polyglot_notebook": {
   "kernelInfo": {
    "defaultKernelName": "csharp",
    "items": [
     {
      "aliases": [],
      "name": "csharp"
     }
    ]
   }
  }
 },
 "nbformat": 4,
 "nbformat_minor": 2
}
